{
 "cells": [
  {
   "cell_type": "code",
   "execution_count": 3,
   "metadata": {},
   "outputs": [],
   "source": [
    "import random"
   ]
  },
  {
   "cell_type": "markdown",
   "metadata": {},
   "source": [
    "### Trong project này, chúng ta sẽ làm 1 trò chơi nhỏ mang tên đoán số. Cụ thể, Máy tính sẽ chọn random 1 số từ 1 đến 10. \n",
    "### Chúng ta sẽ đoán máy tính chọn số bao nhiêu?\n",
    "#### - Nếu số chúng ta đoán thấp hơn máy tính thì in ra \"your guess is too low\"\n",
    "#### - Nếu số chúng ta đoán cao hơn máy tính thì in ra \"your guess is too high\"\n",
    "#### - Nếu chúng ta đoán đúng số thì in ra \"you got the right number after\" xx \"tries\" trong đó xx là số lần đoán.\n",
    "#### - Trường hợp 5 lần đoán sai thì sẽ dừng trò chơi và in ra \"Gameover!!! The number was yy\" trong đó yy là số mà máy tính chọn\n",
    "\n",
    "#### Những kiến thức cover trong project này: input(), print(), while loop, if else, break."
   ]
  },
  {
   "cell_type": "code",
   "execution_count": 5,
   "metadata": {},
   "outputs": [
    {
     "name": "stdout",
     "output_type": "stream",
     "text": [
      "What is your name? Lập\n",
      "Hi. Welcome Lập to Number Guessing Game!!\n"
     ]
    }
   ],
   "source": [
    "# generate random number\n",
    "ran_number = random.randint(1,10)\n",
    "# ask player name\n",
    "input_name = input('What is your name? ')\n",
    "name = input_name\n",
    "# Say hi and welcome player to the guessing game\n",
    "print(\"Hi. Welcome\", name, \"to Number Guessing Game!!\")"
   ]
  },
  {
   "cell_type": "code",
   "execution_count": 12,
   "metadata": {},
   "outputs": [
    {
     "name": "stdout",
     "output_type": "stream",
     "text": [
      "Pick a number between 1 and 10: 6\n",
      "6 :your guess is too high!\n",
      "Please try again!! 9\n",
      "9 :your guess is too high!\n",
      "Please try again!! 1\n",
      "1 :your guess is too low!\n",
      "Please try again!! 3\n",
      "3 you got the right number after 3 tries!!!\n"
     ]
    }
   ],
   "source": [
    "# develop while loop\n",
    "guess = int(input('Pick a number between 1 and 10: '))\n",
    "times = 0\n",
    "while guess != ran_number:\n",
    "    times = times + 1\n",
    "    if guess < ran_number:\n",
    "        print(guess, \":your guess is too low!\")\n",
    "    if guess > ran_number:\n",
    "        print(guess, \":your guess is too high!\")\n",
    "    guess = int(input(\"Please try again!! \"))\n",
    "# guess times = 5\n",
    "    if times == 5:\n",
    "        print(\"Gameover!!! The number was\", ran_number)\n",
    "        break\n",
    "# guess = computer number        \n",
    "if guess == ran_number:\n",
    "    print(guess,\"you got the right number after\", times, \"tries!!!\") "
   ]
  }
 ],
 "metadata": {
  "kernelspec": {
   "display_name": "Python 3 (ipykernel)",
   "language": "python",
   "name": "python3"
  },
  "language_info": {
   "codemirror_mode": {
    "name": "ipython",
    "version": 3
   },
   "file_extension": ".py",
   "mimetype": "text/x-python",
   "name": "python",
   "nbconvert_exporter": "python",
   "pygments_lexer": "ipython3",
   "version": "3.9.7"
  }
 },
 "nbformat": 4,
 "nbformat_minor": 2
}
