{
 "cells": [
  {
   "cell_type": "code",
   "execution_count": null,
   "metadata": {},
   "outputs": [],
   "source": [
    "import random\n",
    "import numpy as np"
   ]
  },
  {
   "cell_type": "markdown",
   "metadata": {},
   "source": [
    "#### Trong project này chúng ta sẽ mô phỏng lại trò chơi dân gian oẳn tù tì.\n",
    "#### Cụ thể, chúng ta sẽ oẳn tù tì với máy. Máy sẽ chọn random búa, kéo, hoặc lá trong mỗi lần oẳn tù tì.\n",
    "#### Chúng ta sẽ chọn ra búa, kéo hoặc lá sau đó in ra kết quả. Trường hợp người chơi nhập sai, yêu cầu người chơi nhập lại theo đúng chính tả theo 3 sự lựa chọn búa, kéo, hoặc lá.\n",
    "#### Lưu ý, sau mỗi lượt chơi, máy sẽ random chọn lại búa kéo hoặc lá.\n",
    "\n",
    "#### Các kiến thức cover trong mini project này: Array, random, while loop, if else."
   ]
  },
  {
   "cell_type": "code",
   "execution_count": null,
   "metadata": {},
   "outputs": [
    {
     "name": "stdout",
     "output_type": "stream",
     "text": [
      "Mời bạn nhập lựa chọn của mình: lá\n",
      "Hoà nhau rồi! Cả bạn và Máy tính đều ra lá\n",
      "----------------------------------------\n",
      "Mời bạn nhập lựa chọn của mình: lá\n",
      "Bạn ra: lá - Máy tính ra: búa\n",
      "Chúc mừng bạn đã chiến thắng! lá bọc búa\n",
      "----------------------------------------\n",
      "Mời bạn nhập lựa chọn của mình: lá\n",
      "Bạn ra: lá - Máy tính ra: kéo\n",
      "Chúc bạn may mắn lần sau!! kéo cắt lá\n",
      "----------------------------------------\n",
      "Mời bạn nhập lựa chọn của mình: lá\n",
      "Hoà nhau rồi! Cả bạn và Máy tính đều ra lá\n",
      "----------------------------------------\n",
      "Mời bạn nhập lựa chọn của mình: lá\n",
      "Hoà nhau rồi! Cả bạn và Máy tính đều ra lá\n",
      "----------------------------------------\n",
      "Mời bạn nhập lựa chọn của mình: lá\n",
      "Hoà nhau rồi! Cả bạn và Máy tính đều ra lá\n",
      "----------------------------------------\n",
      "Mời bạn nhập lựa chọn của mình: lá\n",
      "Hoà nhau rồi! Cả bạn và Máy tính đều ra lá\n",
      "----------------------------------------\n",
      "Mời bạn nhập lựa chọn của mình: lá\n",
      "Bạn ra: lá - Máy tính ra: búa\n",
      "Chúc mừng bạn đã chiến thắng! lá bọc búa\n",
      "----------------------------------------\n"
     ]
    }
   ],
   "source": [
    "# tạo array búa, kéo, lá\n",
    "keobuala = ['kéo','búa','lá']\n",
    "oantuti = np.array(keobuala)\n",
    "\n",
    "# tạo vòng lặp while để chạy chương trình\n",
    "while True:\n",
    "# máy chọn random\n",
    "    computer = random.choice(oantuti)\n",
    "    user = input('Mời bạn nhập lựa chọn của mình: ')\n",
    "    user = user.lower()\n",
    "# win\n",
    "    if user == \"búa\" and computer == \"kéo\":\n",
    "        print('Bạn ra:', user, '- Máy tính ra:', computer)\n",
    "        print('Chúc mừng bạn đã chiến thắng! búa đập kéo')\n",
    "    elif user == \"lá\" and computer == \"búa\":\n",
    "        print('Bạn ra:', user, '- Máy tính ra:', computer)\n",
    "        print('Chúc mừng bạn đã chiến thắng! lá bọc búa')\n",
    "    elif user == \"kéo\" and computer == \"lá\":\n",
    "        print('Bạn ra:', user, '- Máy tính ra:', computer)\n",
    "        print('Chúc mừng bạn đã chiến thắng! kéo cắt lá')    \n",
    "# lose       \n",
    "    elif user == \"búa\" and may == \"lá\":\n",
    "        print('Bạn ra:', user, '- Máy tính ra:', computer)\n",
    "        print('Chúc bạn may mắn lần sau!! lá bọc búa')\n",
    "    elif user == \"lá\" and computer == \"kéo\":\n",
    "        print('Bạn ra:', user, '- Máy tính ra:', computer)\n",
    "        print('Chúc bạn may mắn lần sau!! kéo cắt lá')\n",
    "    elif user == \"kéo\" and computer == \"búa\":\n",
    "        print('Bạn ra:', user, '- Máy tính ra:', computer)\n",
    "        print('Chúc bạn may mắn lần sau!! búa đập kéo')\n",
    "# draw \n",
    "    elif user == computer:\n",
    "        print('Hoà nhau rồi! Cả bạn và Máy tính đều ra', user)\n",
    "# wrong syntax\n",
    "    else:\n",
    "        print('Xin vui lòng nhập đúng định dạng: búa, kéo, lá')\n",
    "    print('--'*20)  \n"
   ]
  },
  {
   "cell_type": "code",
   "execution_count": null,
   "metadata": {},
   "outputs": [],
   "source": []
  },
  {
   "cell_type": "code",
   "execution_count": null,
   "metadata": {},
   "outputs": [],
   "source": []
  }
 ],
 "metadata": {
  "kernelspec": {
   "display_name": "Python 3 (ipykernel)",
   "language": "python",
   "name": "python3"
  },
  "language_info": {
   "codemirror_mode": {
    "name": "ipython",
    "version": 3
   },
   "file_extension": ".py",
   "mimetype": "text/x-python",
   "name": "python",
   "nbconvert_exporter": "python",
   "pygments_lexer": "ipython3",
   "version": "3.9.7"
  }
 },
 "nbformat": 4,
 "nbformat_minor": 2
}
